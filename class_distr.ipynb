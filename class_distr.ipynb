{
 "cells": [
  {
   "cell_type": "code",
   "execution_count": 1,
   "id": "0d04c31b-4c8a-41a8-a766-72658d4ec9c9",
   "metadata": {},
   "outputs": [],
   "source": [
    "import rasterio as rio\n",
    "import numpy as np\n",
    "import pandas as pd\n",
    "import glob as g\n",
    "import plotly.express as px"
   ]
  },
  {
   "cell_type": "code",
   "execution_count": 4,
   "id": "e145218a-cf2b-4fd4-a5ac-89d776ba5151",
   "metadata": {},
   "outputs": [
    {
     "name": "stdout",
     "output_type": "stream",
     "text": [
      "/storage/home/nak5437/work/github/LandCoverNet-Capstone/labels/images2/ref_landcovernet_af_v1_labels_34NBP_00/labels.tif\n"
     ]
    }
   ],
   "source": [
    "labels_base_folder = \"/storage/home/nak5437/work/github/LandCoverNet-Capstone/labels/images*/ref_landcovernet_af_v1_labels_*/*.tif\"\n",
    "labels_file_list = g.glob(labels_base_folder)\n",
    "print(labels_file_list[1000])"
   ]
  },
  {
   "cell_type": "code",
   "execution_count": 4,
   "id": "1010008e-2488-4ab1-9a85-52cc32c71e1a",
   "metadata": {},
   "outputs": [],
   "source": [
    "# image = rio.open(labels_file_list[50])\n",
    "# lab_matrix = image.read()[0]\n",
    "# np.unique(lab_matrix, return_counts = True)"
   ]
  },
  {
   "cell_type": "code",
   "execution_count": 5,
   "id": "34834ccc-3763-4428-9f0c-2fa76514d96a",
   "metadata": {},
   "outputs": [],
   "source": [
    "tilechip = [\"35JKL_19\", \"36RVP_05\", \"35PNR_15\", \"35NRD_06\"]\n",
    "\n",
    "matching_list = []\n",
    "for i in tilechip:\n",
    "    path = [s for s in labels_file_list if i in s]\n",
    "    matching_list.append(path)\n",
    "\n",
    "# unpack list\n",
    "matching_list = sum(matching_list, [])"
   ]
  },
  {
   "cell_type": "code",
   "execution_count": 6,
   "id": "6877737a-9d42-447f-a6f9-3942cca77dfa",
   "metadata": {},
   "outputs": [],
   "source": [
    "master_labels = []\n",
    "for tilechip in matching_list:\n",
    "    image = rio.open(tilechip)\n",
    "    #lab_matrix = image.read()[0]\n",
    "    master_labels.append(image.read()[0])\n",
    "    \n",
    "res = np.array(master_labels).flatten()\n",
    "# res = np.array([res_class, res_count]).flatten\n",
    "res = np.unique(res, return_counts = True)"
   ]
  },
  {
   "cell_type": "code",
   "execution_count": 7,
   "id": "85df19ed-2fb4-45c4-899d-d58c05f681be",
   "metadata": {},
   "outputs": [
    {
     "data": {
      "text/plain": [
       "Text(0, 0.5, 'Count')"
      ]
     },
     "execution_count": 7,
     "metadata": {},
     "output_type": "execute_result"
    },
    {
     "data": {
      "image/png": "[encoded data removed]",
      "text/plain": [
       "<Figure size 432x288 with 1 Axes>"
      ]
     },
     "metadata": {
      "needs_background": "light"
     },
     "output_type": "display_data"
    }
   ],
   "source": [
    "res = pd.Series(dict(zip(res[0], res[1])))\n",
    "vis1 = res.plot.bar(rot = 0)\n",
    "vis1.set_title(\"Distribution of Classifications for Our Chips\")\n",
    "vis1.set_xlabel(\"Classification\")\n",
    "vis1.set_ylabel(\"Count\")"
   ]
  },
  {
   "cell_type": "code",
   "execution_count": 8,
   "id": "5edc14a0-d355-4cde-bdf1-5df22cf50e6f",
   "metadata": {},
   "outputs": [],
   "source": [
    "total_labels = []\n",
    "for tilechip in labels_file_list:\n",
    "    image = rio.open(tilechip)\n",
    "    #lab_matrix = image.read()[0]\n",
    "    total_labels.append(image.read()[0])\n",
    "    \n",
    "full_res = np.array(total_labels).flatten()\n",
    "# res = np.array([res_class, res_count]).flatten\n",
    "full_res = np.unique(full_res, return_counts = True)"
   ]
  },
  {
   "cell_type": "code",
   "execution_count": 9,
   "id": "993fd4eb-d24d-49cb-9eae-d692366917fd",
   "metadata": {},
   "outputs": [
    {
     "data": {
      "text/plain": [
       "<AxesSubplot:title={'center':'Distribution of Classifications Across Africa'}, xlabel='Classification', ylabel='Count'>"
      ]
     },
     "execution_count": 9,
     "metadata": {},
     "output_type": "execute_result"
    },
    {
     "data": {
      "image/png": "[encoded data removed]",
      "text/plain": [
       "<Figure size 432x288 with 1 Axes>"
      ]
     },
     "metadata": {
      "needs_background": "light"
     },
     "output_type": "display_data"
    }
   ],
   "source": [
    "full_res = pd.Series(dict(zip(full_res[0], full_res[1])))\n",
    "vis2 = full_res.plot.bar(rot = 0)\n",
    "vis2.set_title(\"Distribution of Classifications Across Africa\")\n",
    "vis2.set_xlabel(\"Classification\")\n",
    "vis2.set_ylabel(\"Count\")\n",
    "vis2"
   ]
  },
  {
   "cell_type": "code",
   "execution_count": 10,
   "id": "fe7bd5b0-3f24-4b6d-9229-1dc1e11fc136",
   "metadata": {},
   "outputs": [
    {
     "data": {
      "text/plain": [
       "0      120717\n",
       "1     2610737\n",
       "2     3602727\n",
       "3    20646932\n",
       "4       72998\n",
       "5    35173416\n",
       "6    19958747\n",
       "7    46264286\n",
       "dtype: int64"
      ]
     },
     "execution_count": 10,
     "metadata": {},
     "output_type": "execute_result"
    }
   ],
   "source": [
    "full_res"
   ]
  },
  {
   "cell_type": "code",
   "execution_count": null,
   "id": "811a0339-6607-47b3-8af8-5a1e97e68778",
   "metadata": {},
   "outputs": [],
   "source": []
  }
 ],
 "metadata": {
  "kernelspec": {
   "display_name": "Python 3",
   "language": "python",
   "name": "python3"
  },
  "language_info": {
   "codemirror_mode": {
    "name": "ipython",
    "version": 3
   },
   "file_extension": ".py",
   "mimetype": "text/x-python",
   "name": "python",
   "nbconvert_exporter": "python",
   "pygments_lexer": "ipython3",
   "version": "3.8.8"
  }
 },
 "nbformat": 4,
 "nbformat_minor": 5
}
