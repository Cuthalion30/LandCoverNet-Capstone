{
 "cells": [
  {
   "cell_type": "code",
   "execution_count": 62,
   "id": "0d04c31b-4c8a-41a8-a766-72658d4ec9c9",
   "metadata": {},
   "outputs": [],
   "source": [
    "import rasterio as rio\n",
    "import numpy as np\n",
    "import pandas as pd\n",
    "import glob as g\n"
   ]
  },
  {
   "cell_type": "code",
   "execution_count": 92,
   "id": "e145218a-cf2b-4fd4-a5ac-89d776ba5151",
   "metadata": {},
   "outputs": [
    {
     "name": "stdout",
     "output_type": "stream",
     "text": [
      "/storage/home/nak5437/work/github/LandCoverNet-Capstone/image_labels/ref_landcovernet_af_v1_labels_28QDE_00/labels.tif\n"
     ]
    }
   ],
   "source": [
    "labels_base_folder = \"/storage/home/nak5437/work/github/LandCoverNet-Capstone/image_labels/ref_landcovernet_af_v1_labels_*/*.tif\"\n",
    "labels_file_list = g.glob(labels_base_folder)\n",
    "print(labels_file_list[0])"
   ]
  },
  {
   "cell_type": "code",
   "execution_count": 93,
   "id": "1010008e-2488-4ab1-9a85-52cc32c71e1a",
   "metadata": {},
   "outputs": [
    {
     "data": {
      "text/plain": [
       "(array([1, 2, 3, 5, 6, 7], dtype=uint16),\n",
       " array([   23,   434,   971, 12235,  1077, 50796]))"
      ]
     },
     "execution_count": 93,
     "metadata": {},
     "output_type": "execute_result"
    }
   ],
   "source": [
    "image = rio.open(labels_file_list[50])\n",
    "lab_matrix = image.read()[0]\n",
    "np.unique(lab_matrix, return_counts = True)"
   ]
  },
  {
   "cell_type": "code",
   "execution_count": 101,
   "id": "34834ccc-3763-4428-9f0c-2fa76514d96a",
   "metadata": {},
   "outputs": [],
   "source": [
    "tilechip = [\"35JKL_19\", \"36RVP_05\", \"35PNR_15\", \"35NRD_06\"]\n",
    "\n",
    "matching_list = []\n",
    "for i in tilechip:\n",
    "    path = [s for s in labels_file_list if i in s]\n",
    "    matching_list.append(path)\n",
    "\n",
    "# unpack list\n",
    "matching_list = sum(matching_list, [])"
   ]
  },
  {
   "cell_type": "code",
   "execution_count": 130,
   "id": "6877737a-9d42-447f-a6f9-3942cca77dfa",
   "metadata": {},
   "outputs": [
    {
     "data": {
      "text/plain": [
       "(array([2, 3, 5, 6, 7], dtype=uint16),\n",
       " array([  2762, 131072,  26207,  41333,  60770]))"
      ]
     },
     "execution_count": 130,
     "metadata": {},
     "output_type": "execute_result"
    }
   ],
   "source": [
    "master_labels = []\n",
    "for tilechip in matching_list:\n",
    "    image = rio.open(tilechip)\n",
    "    #lab_matrix = image.read()[0]\n",
    "    master_labels.append(image.read()[0])\n",
    "    \n",
    "res = np.array(master_labels).flatten()\n",
    "# res = np.array([res_class, res_count]).flatten\n",
    "np.unique(res, return_counts = True)"
   ]
  },
  {
   "cell_type": "code",
   "execution_count": null,
   "id": "85df19ed-2fb4-45c4-899d-d58c05f681be",
   "metadata": {},
   "outputs": [],
   "source": []
  }
 ],
 "metadata": {
  "kernelspec": {
   "display_name": "Python 3",
   "language": "python",
   "name": "python3"
  },
  "language_info": {
   "codemirror_mode": {
    "name": "ipython",
    "version": 3
   },
   "file_extension": ".py",
   "mimetype": "text/x-python",
   "name": "python",
   "nbconvert_exporter": "python",
   "pygments_lexer": "ipython3",
   "version": "3.8.8"
  }
 },
 "nbformat": 4,
 "nbformat_minor": 5
}
