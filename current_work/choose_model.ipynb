{
 "cells": [
  {
   "cell_type": "code",
   "execution_count": 9,
   "id": "22ba0958-9db3-46ef-b203-57884b15026c",
   "metadata": {},
   "outputs": [],
   "source": [
    "import numpy as np\n",
    "import pandas as pd\n",
    "import sklearn\n",
    "import xgboost\n",
    "import lightgbm\n",
    "import time\n",
    "from lazypredict.Supervised import LazyClassifier\n",
    "from sklearn.model_selection import train_test_split\n",
    "from sklearn.ensemble import AdaBoostClassifier\n",
    "from sklearn.utils import all_estimators\n",
    "from sklearn.base import ClassifierMixin"
   ]
  },
  {
   "cell_type": "code",
   "execution_count": 2,
   "id": "a04bd660-1551-40f7-a853-e452ce290021",
   "metadata": {},
   "outputs": [],
   "source": [
    "removed_classifiers = [\n",
    "    \"ClassifierChain\",\n",
    "    \"ComplementNB\",\n",
    "    \"GradientBoostingClassifier\",\n",
    "    \"GaussianProcessClassifier\",\n",
    "    \"HistGradientBoostingClassifier\",\n",
    "    \"MLPClassifier\",\n",
    "    \"LogisticRegressionCV\", \n",
    "    \"MultiOutputClassifier\", \n",
    "    \"MultinomialNB\", \n",
    "    \"OneVsOneClassifier\",\n",
    "    \"OneVsRestClassifier\",\n",
    "    \"OutputCodeClassifier\",\n",
    "    \"RadiusNeighborsClassifier\",\n",
    "    \"VotingClassifier\",\n",
    "    \"LabelPropagation\",\n",
    "    \"LabelSpreading\",\n",
    "    'SVC',\n",
    "]\n",
    "\n",
    "CLASSIFIERS = [\n",
    "    est\n",
    "    for est in all_estimators()\n",
    "    if (issubclass(est[1], ClassifierMixin) and (est[0] not in removed_classifiers))\n",
    "]\n",
    "\n",
    "CLASSIFIERS.append((\"XGBClassifier\", xgboost.XGBClassifier))\n",
    "CLASSIFIERS.append((\"LGBMClassifier\", lightgbm.LGBMClassifier))"
   ]
  },
  {
   "cell_type": "code",
   "execution_count": 3,
   "id": "e9cd29ff-d22b-4836-a6c7-5eed97a1fc22",
   "metadata": {},
   "outputs": [],
   "source": [
    "# Read in the data\n",
    "df = pd.read_csv('landcovernet_africa_data.csv')"
   ]
  },
  {
   "cell_type": "code",
   "execution_count": 4,
   "id": "aceaf3ab-7fd0-4155-9cd4-9812da1c5c6e",
   "metadata": {},
   "outputs": [],
   "source": [
    "# separate the data from the labels\n",
    "# f1 (costal) and f2 (blue) are bands for landsat-8\n",
    "X, Y = df[['f1', 'f2']], df.labels"
   ]
  },
  {
   "cell_type": "code",
   "execution_count": 5,
   "id": "5a3cc09f-05a2-472c-bde8-0d517c835aea",
   "metadata": {},
   "outputs": [],
   "source": [
    "# 80/20 split for the train/test\n",
    "X_train, X_test, y_train, y_test = train_test_split(X, Y, test_size=.2, random_state=1234)"
   ]
  },
  {
   "cell_type": "code",
   "execution_count": 22,
   "id": "a48f7c27-e100-40d5-9cb1-09051d4db816",
   "metadata": {},
   "outputs": [
    {
     "name": "stderr",
     "output_type": "stream",
     "text": [
      "  0%|          | 0/26 [00:00<?, ?it/s]"
     ]
    },
    {
     "name": "stdout",
     "output_type": "stream",
     "text": [
      "'tuple' object has no attribute '__name__'\n",
      "Invalid Classifier(s)\n"
     ]
    },
    {
     "name": "stderr",
     "output_type": "stream",
     "text": [
      "100%|██████████| 26/26 [00:27<00:00,  1.06s/it]"
     ]
    },
    {
     "name": "stdout",
     "output_type": "stream",
     "text": [
      "--- 27.45751118659973 seconds ---\n"
     ]
    },
    {
     "name": "stderr",
     "output_type": "stream",
     "text": [
      "\n"
     ]
    }
   ],
   "source": [
    "# fit models using LazyPredict\n",
    "start_time = time.time()\n",
    "clf = LazyClassifier(classifiers = CLASSIFIERS, predictions=True)\n",
    "models, predictions = clf.fit(X_train, X_test, y_train, y_test)\n",
    "print(\"--- %s seconds ---\" % (time.time() - start_time))"
   ]
  },
  {
   "cell_type": "code",
   "execution_count": 13,
   "id": "5d8445dd-3960-4225-b3ed-d5577bef53f6",
   "metadata": {},
   "outputs": [
    {
     "name": "stdout",
     "output_type": "stream",
     "text": [
      "                               Accuracy  Balanced Accuracy ROC AUC  F1 Score  \\\n",
      "Model                                                                          \n",
      "DecisionTreeClassifier             0.96               0.89    None      0.96   \n",
      "ExtraTreeClassifier                0.96               0.89    None      0.96   \n",
      "ExtraTreesClassifier               0.96               0.89    None      0.96   \n",
      "BaggingClassifier                  0.96               0.87    None      0.96   \n",
      "RandomForestClassifier             0.96               0.87    None      0.96   \n",
      "KNeighborsClassifier               0.95               0.86    None      0.95   \n",
      "LGBMClassifier                     0.72               0.42    None      0.70   \n",
      "NearestCentroid                    0.48               0.38    None      0.51   \n",
      "GaussianNB                         0.58               0.36    None      0.57   \n",
      "PassiveAggressiveClassifier        0.61               0.29    None      0.58   \n",
      "QuadraticDiscriminantAnalysis      0.63               0.29    None      0.58   \n",
      "CalibratedClassifierCV             0.61               0.27    None      0.55   \n",
      "LogisticRegression                 0.61               0.27    None      0.55   \n",
      "LinearDiscriminantAnalysis         0.62               0.27    None      0.55   \n",
      "AdaBoostClassifier                 0.42               0.27    None      0.39   \n",
      "LinearSVC                          0.62               0.27    None      0.54   \n",
      "RidgeClassifier                    0.62               0.26    None      0.54   \n",
      "RidgeClassifierCV                  0.62               0.26    None      0.54   \n",
      "DummyClassifier                    0.62               0.25    None      0.48   \n",
      "BernoulliNB                        0.62               0.25    None      0.48   \n",
      "SGDClassifier                      0.62               0.25    None      0.48   \n",
      "Perceptron                         0.54               0.22    None      0.44   \n",
      "\n",
      "                               Time Taken  \n",
      "Model                                      \n",
      "DecisionTreeClassifier               0.11  \n",
      "ExtraTreeClassifier                  0.04  \n",
      "ExtraTreesClassifier                 1.86  \n",
      "BaggingClassifier                    0.68  \n",
      "RandomForestClassifier               4.61  \n",
      "KNeighborsClassifier                 0.68  \n",
      "LGBMClassifier                       1.60  \n",
      "NearestCentroid                      0.03  \n",
      "GaussianNB                           0.03  \n",
      "PassiveAggressiveClassifier          0.11  \n",
      "QuadraticDiscriminantAnalysis        0.03  \n",
      "CalibratedClassifierCV              11.73  \n",
      "LogisticRegression                   0.66  \n",
      "LinearDiscriminantAnalysis           0.04  \n",
      "AdaBoostClassifier                   1.33  \n",
      "LinearSVC                            3.12  \n",
      "RidgeClassifier                      0.04  \n",
      "RidgeClassifierCV                    0.05  \n",
      "DummyClassifier                      0.02  \n",
      "BernoulliNB                          0.03  \n",
      "SGDClassifier                        0.17  \n",
      "Perceptron                           0.10  \n"
     ]
    }
   ],
   "source": [
    "print(models)"
   ]
  },
  {
   "cell_type": "code",
   "execution_count": null,
   "id": "90514ea4-8534-4fcc-ad46-4a6ae19fce87",
   "metadata": {},
   "outputs": [],
   "source": [
    "# Select Model\n",
    "# Filter for only a certain accuracy level\n",
    "top5_models = models.take([0,1,2,3,4,5])\n",
    "# Select and store the fastest model from the above filter tabled\n",
    "selected_model = top5_models[(top5_models[\"Time Taken\"] == min(top5_models[\"Time Taken\"]))].index[0]\n",
    "\n",
    "print(selected_model)"
   ]
  },
  {
   "cell_type": "markdown",
   "id": "dc5770ef-4819-4004-ac10-eec4c086b2a2",
   "metadata": {},
   "source": [
    "The model which we shall use moving forward will be the ExtraTreeClassifier."
   ]
  }
 ],
 "metadata": {
  "kernelspec": {
   "display_name": "Python 3",
   "language": "python",
   "name": "python3"
  },
  "language_info": {
   "codemirror_mode": {
    "name": "ipython",
    "version": 3
   },
   "file_extension": ".py",
   "mimetype": "text/x-python",
   "name": "python",
   "nbconvert_exporter": "python",
   "pygments_lexer": "ipython3",
   "version": "3.8.8"
  }
 },
 "nbformat": 4,
 "nbformat_minor": 5
}
